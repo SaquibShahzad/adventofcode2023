{
 "cells": [
  {
   "cell_type": "markdown",
   "metadata": {},
   "source": [
    "day 2: https://adventofcode.com/2023/day/2"
   ]
  },
  {
   "cell_type": "code",
   "execution_count": 47,
   "metadata": {},
   "outputs": [],
   "source": [
    "# read input file and store in list\n",
    "with open('Day 2 input.txt', 'r') as f:\n",
    "    data = f.read().splitlines()    "
   ]
  },
  {
   "cell_type": "code",
   "execution_count": 48,
   "metadata": {},
   "outputs": [],
   "source": [
    "maxCubes = {'red': 12, 'blue': 14, 'green': 13}\n",
    "def isPartPossible(part):\n",
    "    '''\n",
    "    e.g. part: 3 blue, 4 red, 5 green\n",
    "    '''\n",
    "    # split part into sub parts\n",
    "    subparts = part.split(',')\n",
    "    for subpart in subparts:\n",
    "        # print(subpart.split(' '))\n",
    "\n",
    "        num = int(subpart.split(' ')[1])\n",
    "        # print(\"bruhhhhh: \",num)\n",
    "        color = subpart.split(' ')[2]\n",
    "        if num > maxCubes[color]:\n",
    "            return False\n",
    "    return True\n",
    "        \n",
    "    "
   ]
  },
  {
   "cell_type": "code",
   "execution_count": 49,
   "metadata": {},
   "outputs": [],
   "source": [
    "def isGamePossible(line):\n",
    "    '''\n",
    "    e.g. line: Game 1: 3 blue, 4 red; 1 red, 2 green, 6 blue; 2 green\n",
    "    '''\n",
    "    # split line into 3 parts\n",
    "    parts = line.split(':')[1].split(';')\n",
    "    for part in parts:\n",
    "        if not isPartPossible(part):\n",
    "            return False\n",
    "    return True"
   ]
  },
  {
   "cell_type": "code",
   "execution_count": 50,
   "metadata": {},
   "outputs": [],
   "source": [
    "def getGameNumber(line):\n",
    "    return int(line.split(':')[0].split(' ')[1])"
   ]
  },
  {
   "cell_type": "code",
   "execution_count": 51,
   "metadata": {},
   "outputs": [
    {
     "name": "stdout",
     "output_type": "stream",
     "text": [
      "2156\n"
     ]
    }
   ],
   "source": [
    "total = 0\n",
    "for line in data:\n",
    "    if isGamePossible(line):\n",
    "        total += getGameNumber(line)\n",
    "print(total)"
   ]
  },
  {
   "cell_type": "markdown",
   "metadata": {},
   "source": [
    "PART 2 "
   ]
  },
  {
   "cell_type": "code",
   "execution_count": 54,
   "metadata": {},
   "outputs": [],
   "source": [
    "\n",
    "'''Min cubes required for each game'''\n",
    "def getPower(line):\n",
    "    minCubes = {'red': 0, 'blue': 0, 'green': 0}\n",
    "    parts = line.split(':')[1].split(';')\n",
    "    for part in parts:\n",
    "        subparts = part.split(',')\n",
    "        for subpart in subparts:\n",
    "            num = int(subpart.split(' ')[1])\n",
    "            color = subpart.split(' ')[2]\n",
    "            if num > minCubes[color]:\n",
    "                minCubes[color] = num\n",
    "    power = minCubes[\"red\"] * minCubes[\"blue\"] * minCubes[\"green\"]\n",
    "    return power"
   ]
  },
  {
   "cell_type": "code",
   "execution_count": 55,
   "metadata": {},
   "outputs": [
    {
     "name": "stdout",
     "output_type": "stream",
     "text": [
      "66909\n"
     ]
    }
   ],
   "source": [
    "totalPower = 0\n",
    "for line in data:\n",
    "    totalPower += getPower(line)\n",
    "print(totalPower)"
   ]
  }
 ],
 "metadata": {
  "kernelspec": {
   "display_name": "Python 3.9.6 64-bit",
   "language": "python",
   "name": "python3"
  },
  "language_info": {
   "codemirror_mode": {
    "name": "ipython",
    "version": 3
   },
   "file_extension": ".py",
   "mimetype": "text/x-python",
   "name": "python",
   "nbconvert_exporter": "python",
   "pygments_lexer": "ipython3",
   "version": "3.9.6"
  },
  "orig_nbformat": 4,
  "vscode": {
   "interpreter": {
    "hash": "31f2aee4e71d21fbe5cf8b01ff0e069b9275f58929596ceb00d14d90e3e16cd6"
   }
  }
 },
 "nbformat": 4,
 "nbformat_minor": 2
}
