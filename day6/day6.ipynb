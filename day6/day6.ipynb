{
 "cells": [
  {
   "cell_type": "markdown",
   "metadata": {},
   "source": [
    "day 6: https://adventofcode.com/2023/day/6"
   ]
  },
  {
   "cell_type": "code",
   "execution_count": 23,
   "metadata": {},
   "outputs": [],
   "source": [
    "# open file and store time and distance in a list\n",
    "with open('input.txt') as f:\n",
    "    data = f.read().split('\\n')\n",
    "    times = data[0].split(':')[1].strip().split('     ')\n",
    "    distances = data[1].split(':')[1].strip().split('   ')\n"
   ]
  },
  {
   "cell_type": "code",
   "execution_count": 24,
   "metadata": {},
   "outputs": [
    {
     "name": "stdout",
     "output_type": "stream",
     "text": [
      "['42', '68', '69', '85']\n",
      "['284', '1005', '1122', '1341']\n"
     ]
    }
   ],
   "source": [
    "print(times)\n",
    "print(distances)"
   ]
  },
  {
   "cell_type": "code",
   "execution_count": 25,
   "metadata": {},
   "outputs": [],
   "source": [
    "# integer versions \n",
    "times_num = list(map(int, times))\n",
    "distances_num = list(map(int, distances))"
   ]
  },
  {
   "cell_type": "code",
   "execution_count": 33,
   "metadata": {},
   "outputs": [
    {
     "name": "stdout",
     "output_type": "stream",
     "text": [
      "race duration: 42, ways to beat: 25, distance: 41\n",
      "race duration: 68, ways to beat: 25, distance: 67\n",
      "race duration: 69, ways to beat: 16, distance: 68\n",
      "race duration: 85, ways to beat: 44, distance: 84\n",
      "440000\n"
     ]
    }
   ],
   "source": [
    "ways = 1\n",
    "n = len(times_num)\n",
    "for i in range(n):\n",
    "    duration = times_num[i]\n",
    "    times = range(duration)\n",
    "    ways_i = 0\n",
    "    for time in times:\n",
    "        distance_travelled = int(time) * int(duration-time)\n",
    "        if distance_travelled > distances_num[i]:\n",
    "            ways_i += 1\n",
    "    print(f\"race duration: {duration}, ways to beat: {ways_i}, distance: {distance_travelled}\")\n",
    "    ways *= ways_i\n",
    "print(ways)\n",
    "        # print(f\"race duration: {duration}, time: {time}, distance: {distance_travelled}\")"
   ]
  }
 ],
 "metadata": {
  "kernelspec": {
   "display_name": "Python 3.9.6 64-bit",
   "language": "python",
   "name": "python3"
  },
  "language_info": {
   "codemirror_mode": {
    "name": "ipython",
    "version": 3
   },
   "file_extension": ".py",
   "mimetype": "text/x-python",
   "name": "python",
   "nbconvert_exporter": "python",
   "pygments_lexer": "ipython3",
   "version": "3.9.6"
  },
  "orig_nbformat": 4,
  "vscode": {
   "interpreter": {
    "hash": "31f2aee4e71d21fbe5cf8b01ff0e069b9275f58929596ceb00d14d90e3e16cd6"
   }
  }
 },
 "nbformat": 4,
 "nbformat_minor": 2
}
