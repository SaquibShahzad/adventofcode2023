{
 "cells": [
  {
   "cell_type": "markdown",
   "metadata": {},
   "source": [
    "day 7: https://adventofcode.com/2023/day/7"
   ]
  },
  {
   "cell_type": "code",
   "execution_count": 1,
   "metadata": {},
   "outputs": [
    {
     "name": "stdout",
     "output_type": "stream",
     "text": [
      "1000\n"
     ]
    }
   ],
   "source": [
    "with open('input.txt') as f:\n",
    "    lines = f.readlines()\n",
    "    max_rank = len(lines)\n",
    "print(max_rank)"
   ]
  },
  {
   "cell_type": "markdown",
   "metadata": {},
   "source": [
    "# '''Utility Functions'''"
   ]
  },
  {
   "cell_type": "code",
   "execution_count": 15,
   "metadata": {},
   "outputs": [],
   "source": [
    "\n",
    "\n",
    "labels = ['A', 'K', 'Q', 'J', 'T', '9', '8', '7', '6', '5', '4', '3', '2']\n",
    "\n",
    "# a function that sorts a given hand by priority of cards\n",
    "def sort_hand(hand):\n",
    "    # sort by label \n",
    "    hand = sorted(hand, key=lambda x: labels.index(x))\n",
    "    # turn into a string\n",
    "    hand = ''.join(hand)\n",
    "    return hand\n"
   ]
  },
  {
   "cell_type": "code",
   "execution_count": 19,
   "metadata": {},
   "outputs": [],
   "source": [
    "# dictionary of hand:bid\n",
    "bids = {}\n",
    "hands = []\n",
    "for i in range(max_rank):\n",
    "    hand = sort_hand(lines[i].split(\" \")[0])\n",
    "    hands.append(hand)\n",
    "    bids[hand] = lines[i].split(\" \")[1][:-1]\n",
    "# print(bids)"
   ]
  },
  {
   "cell_type": "code",
   "execution_count": 20,
   "metadata": {},
   "outputs": [],
   "source": [
    "\n",
    "def hand_type(hand):\n",
    "    '''\n",
    "    Every hand is exactly one type. From strongest to weakest, they are:\n",
    "        Five of a kind, where all five cards have the same label: AAAAA\n",
    "        Four of a kind, where four cards have the same label and one card has a different label: AA8AA\n",
    "        Full house, where three cards have the same label, and the remaining two cards share a different label: 23332\n",
    "        Three of a kind, where three cards have the same label, and the remaining two cards are each different from any other card in the hand: TTT98\n",
    "        Two pair, where two cards share one label, two other cards share a second label, and the remaining card has a third label: 23432\n",
    "        One pair, where two cards share one label, and the other three cards have a different label from the pair and each other: A23A4\n",
    "        High card, where all cards' labels are distinct: 23456\n",
    "    '''\n",
    "    assert len(hand) == 5\n",
    "    hand = sort_hand(hand)\n",
    "    # check for five of a kind\n",
    "    if hand[0] == hand[1] == hand[2] == hand[3] == hand[4]:\n",
    "        return 7 # 7 is the highest rank, corresponding to five of a kind\n",
    "    # check for four of a kind  \n",
    "    if hand[0] == hand[1] == hand[2] == hand[3] or hand[1] == hand[2] == hand[3] == hand[4]:\n",
    "        return 6 # 6 is the second highest rank, corresponding to four of a kind\n",
    "    # check for full house  \n",
    "    if hand[0] == hand[1] == hand[2] and hand[3] == hand[4] or hand[0] == hand[1] and hand[2] == hand[3] == hand[4]:\n",
    "        return 5 # 5 is the third highest rank, corresponding to full house\n",
    "    pass\n",
    "\n",
    "# line has two parts: hand and bid\n",
    "# idea: merge sort with custom comparator\n",
    "def compare_hands(hand1, hand2):\n",
    "    if hand_type(hand1) > hand_type(hand2):\n",
    "        return hand1\n",
    "    elif hand_type(hand1) == hand_type(hand2):\n",
    "        # write tiebreaker\n",
    "        pass \n",
    "    return hand2\n",
    "\n",
    "def merge_sort(hands):\n",
    "    pass"
   ]
  },
  {
   "cell_type": "code",
   "execution_count": null,
   "metadata": {},
   "outputs": [],
   "source": [
    "\n",
    "\n",
    "total = 0\n",
    "for i in range(len(hands))):\n",
    "    hand = hands[i]\n",
    "    total += bids[hand] * i\n",
    "print(total)"
   ]
  }
 ],
 "metadata": {
  "kernelspec": {
   "display_name": "Python 3.9.6 64-bit",
   "language": "python",
   "name": "python3"
  },
  "language_info": {
   "codemirror_mode": {
    "name": "ipython",
    "version": 3
   },
   "file_extension": ".py",
   "mimetype": "text/x-python",
   "name": "python",
   "nbconvert_exporter": "python",
   "pygments_lexer": "ipython3",
   "version": "3.9.6"
  },
  "orig_nbformat": 4,
  "vscode": {
   "interpreter": {
    "hash": "31f2aee4e71d21fbe5cf8b01ff0e069b9275f58929596ceb00d14d90e3e16cd6"
   }
  }
 },
 "nbformat": 4,
 "nbformat_minor": 2
}
