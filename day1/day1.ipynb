{
 "cells": [
  {
   "cell_type": "markdown",
   "metadata": {},
   "source": [
    "Day 1: https://adventofcode.com/2023/day/1"
   ]
  },
  {
   "cell_type": "code",
   "execution_count": 28,
   "metadata": {},
   "outputs": [],
   "source": [
    "import re"
   ]
  },
  {
   "cell_type": "code",
   "execution_count": 27,
   "metadata": {},
   "outputs": [],
   "source": [
    "# read input file and store in list\n",
    "with open('Day 1 input.txt', 'r') as f:\n",
    "    data = f.read().splitlines()    \n",
    "\n",
    "# print(data)\n",
    "    "
   ]
  },
  {
   "cell_type": "code",
   "execution_count": 29,
   "metadata": {},
   "outputs": [],
   "source": [
    "def get_calibration_val(line: str) -> int:\n",
    "    # find first digit\n",
    "    first_digit = re.search(r'(\\d+)', line).group(1)    \n",
    "    # find last digit on line\n",
    "    reversedLine = line[::-1]\n",
    "    last_digit =  re.search(r'(\\d+)', reversedLine).group(1)  \n",
    "    return int(str(first_digit) + str(last_digit))\n",
    "\n"
   ]
  },
  {
   "cell_type": "code",
   "execution_count": 45,
   "metadata": {},
   "outputs": [
    {
     "name": "stdout",
     "output_type": "stream",
     "text": [
      "o1ne hundred and twenty-t2wot2wot2wot3hree\n"
     ]
    }
   ],
   "source": [
    "def process_digitStrings(line: str) -> str:\n",
    "    # parse line, replace \"one\" with 1, \"two\" with 2, etc.\n",
    "    line = line.replace(\"zero\", \"z0ero\")\n",
    "    line = line.replace(\"one\", \"o1ne\")\n",
    "    line = line.replace(\"two\", \"t2wo\")\n",
    "    line = line.replace(\"three\", \"t3hree\")\n",
    "    line = line.replace(\"four\", \"f4our\")   \n",
    "    line = line.replace(\"five\", \"f5ive\")\n",
    "    line = line.replace(\"six\", \"s6ix\")\n",
    "    line = line.replace(\"seven\", \"s7even\")\n",
    "    line = line.replace(\"eight\", \"e8ight\")\n",
    "    line = line.replace(\"nine\", \"n9ine\")\n",
    "    return line\n",
    "\n",
    "print(process_digitStrings(\"one hundred and twenty-twotwotwothree\"))"
   ]
  },
  {
   "cell_type": "code",
   "execution_count": 46,
   "metadata": {},
   "outputs": [],
   "source": [
    "processed_data = [process_digitStrings(line) for line in data]\n",
    "numerical_data = [get_calibration_val(line) for line in processed_data]"
   ]
  },
  {
   "cell_type": "code",
   "execution_count": 47,
   "metadata": {},
   "outputs": [
    {
     "name": "stdout",
     "output_type": "stream",
     "text": [
      "14308295616\n"
     ]
    }
   ],
   "source": [
    "print(sum(numerical_data))"
   ]
  },
  {
   "cell_type": "code",
   "execution_count": 32,
   "metadata": {},
   "outputs": [
    {
     "name": "stdout",
     "output_type": "stream",
     "text": [
      "12\n",
      "15\n"
     ]
    }
   ],
   "source": [
    "#tests\n",
    "\n",
    "print(get_calibration_val('1abc2'))\n",
    "print(get_calibration_val('a1b2c3d4e5f'))\n",
    "# assert get_calibration_val('aa') == AttributeError, 'no digits found'"
   ]
  },
  {
   "cell_type": "markdown",
   "metadata": {},
   "source": []
  }
 ],
 "metadata": {
  "kernelspec": {
   "display_name": "Python 3.11.2 64-bit",
   "language": "python",
   "name": "python3"
  },
  "language_info": {
   "codemirror_mode": {
    "name": "ipython",
    "version": 3
   },
   "file_extension": ".py",
   "mimetype": "text/x-python",
   "name": "python",
   "nbconvert_exporter": "python",
   "pygments_lexer": "ipython3",
   "version": "3.11.2"
  },
  "orig_nbformat": 4,
  "vscode": {
   "interpreter": {
    "hash": "b0fa6594d8f4cbf19f97940f81e996739fb7646882a419484c72d19e05852a7e"
   }
  }
 },
 "nbformat": 4,
 "nbformat_minor": 2
}
