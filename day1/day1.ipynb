{
 "cells": [
  {
   "cell_type": "code",
   "execution_count": 27,
   "metadata": {},
   "outputs": [],
   "source": [
    "# read input file and store in list\n",
    "with open('Day 1 input.txt', 'r') as f:\n",
    "    data = f.read().splitlines()    \n",
    "\n",
    "# print(data)\n",
    "    "
   ]
  },
  {
   "cell_type": "code",
   "execution_count": 28,
   "metadata": {},
   "outputs": [],
   "source": [
    "import re"
   ]
  },
  {
   "cell_type": "code",
   "execution_count": 29,
   "metadata": {},
   "outputs": [],
   "source": [
    "def get_calibration_val(line: str) -> int:\n",
    "    # find first digit\n",
    "    first_digit = re.search(r'(\\d+)', line).group(1)    \n",
    "    # find last digit on line\n",
    "    reversedLine = line[::-1]\n",
    "    last_digit =  re.search(r'(\\d+)', reversedLine).group(1)  \n",
    "    return int(str(first_digit) + str(last_digit))\n",
    "\n"
   ]
  },
  {
   "cell_type": "code",
   "execution_count": 30,
   "metadata": {},
   "outputs": [],
   "source": [
    "numerical_data = [get_calibration_val(line) for line in data]"
   ]
  },
  {
   "cell_type": "code",
   "execution_count": 31,
   "metadata": {},
   "outputs": [
    {
     "name": "stdout",
     "output_type": "stream",
     "text": [
      "22485007773\n"
     ]
    }
   ],
   "source": [
    "print(sum(numerical_data))"
   ]
  },
  {
   "cell_type": "code",
   "execution_count": 32,
   "metadata": {},
   "outputs": [
    {
     "name": "stdout",
     "output_type": "stream",
     "text": [
      "12\n",
      "15\n"
     ]
    }
   ],
   "source": [
    "#tests\n",
    "\n",
    "print(get_calibration_val('1abc2'))\n",
    "print(get_calibration_val('a1b2c3d4e5f'))\n",
    "# assert get_calibration_val('aa') == AttributeError, 'no digits found'"
   ]
  },
  {
   "cell_type": "markdown",
   "metadata": {},
   "source": []
  }
 ],
 "metadata": {
  "kernelspec": {
   "display_name": "Python 3.11.2 64-bit",
   "language": "python",
   "name": "python3"
  },
  "language_info": {
   "codemirror_mode": {
    "name": "ipython",
    "version": 3
   },
   "file_extension": ".py",
   "mimetype": "text/x-python",
   "name": "python",
   "nbconvert_exporter": "python",
   "pygments_lexer": "ipython3",
   "version": "3.11.2"
  },
  "orig_nbformat": 4,
  "vscode": {
   "interpreter": {
    "hash": "b0fa6594d8f4cbf19f97940f81e996739fb7646882a419484c72d19e05852a7e"
   }
  }
 },
 "nbformat": 4,
 "nbformat_minor": 2
}
