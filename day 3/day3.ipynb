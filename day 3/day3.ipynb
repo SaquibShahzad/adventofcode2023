{
 "cells": [
  {
   "cell_type": "markdown",
   "metadata": {},
   "source": [
    "Day 3: https://adventofcode.com/2023/day/3"
   ]
  },
  {
   "cell_type": "code",
   "execution_count": 275,
   "metadata": {},
   "outputs": [],
   "source": [
    "# read data\n",
    "with open('input.txt') as f:\n",
    "    data = f.read().splitlines()"
   ]
  },
  {
   "cell_type": "code",
   "execution_count": 276,
   "metadata": {},
   "outputs": [],
   "source": [
    "data_copy = data.copy()"
   ]
  },
  {
   "cell_type": "code",
   "execution_count": 277,
   "metadata": {},
   "outputs": [],
   "source": [
    "dot = '.'\n",
    "number = \"0123456789\"\n",
    "def isSymbol(c):\n",
    "    return (c not in number) and (c != dot)"
   ]
  },
  {
   "cell_type": "code",
   "execution_count": 287,
   "metadata": {},
   "outputs": [],
   "source": [
    "adj_data = data.copy()\n",
    "n = len(data)\n",
    "for i in range(n):\n",
    "    line = data[i]\n",
    "    m = len(line)\n",
    "    for j in range(m):\n",
    "        c = line[j]\n",
    "        if isSymbol(c):\n",
    "            adj_data[i] = adj_data[i][:j] + '1' + adj_data[i][j+1:]\n",
    "        else:\n",
    "            adj_data[i] = adj_data[i][:j] + '0' + adj_data[i][j+1:]"
   ]
  },
  {
   "cell_type": "code",
   "execution_count": 278,
   "metadata": {},
   "outputs": [],
   "source": [
    "def partNumber(row, begin, end):\n",
    "    # based on row, begin index of the number, and the end index of the number\n",
    "    # check if the characters above, below, left and right are symbols\n",
    "    # if yes, return True\n",
    "    # if no, return False\n",
    "    # print(row, begin, end)\n",
    "    prevLine = row - 1\n",
    "    nextLine = row + 1\n",
    "    # check if symbol is on the left or right\n",
    "    if begin > 0:\n",
    "        if isSymbol(data[row][begin-1]):\n",
    "            return True \n",
    "    if end < len(data[row]) - 1:\n",
    "        if isSymbol(data[row][end+1]):\n",
    "            return True\n",
    "    # check if symbol is above or below\n",
    "    for c in range(begin, end+1):\n",
    "        if prevLine >= 0:\n",
    "            if isSymbol(data[prevLine][c]):\n",
    "                return True\n",
    "        if nextLine < len(data):\n",
    "            if isSymbol(data[nextLine][c]):\n",
    "                return True\n",
    "    # check diagonal\n",
    "    if prevLine >= 0:     \n",
    "        if begin > 0:\n",
    "            if isSymbol(data[prevLine][begin-1]):\n",
    "                return True\n",
    "        if end < len(data[row]) - 1:\n",
    "            if isSymbol(data[prevLine][end+1]):\n",
    "                return True\n",
    "    if nextLine < len(data):\n",
    "        if begin > 0:\n",
    "            if isSymbol(data[nextLine][begin-1]):\n",
    "                return True\n",
    "        if end < len(data[row]) - 1:\n",
    "            if isSymbol(data[nextLine][end+1]):\n",
    "                return True\n",
    "    return False"
   ]
  },
  {
   "cell_type": "code",
   "execution_count": 299,
   "metadata": {},
   "outputs": [],
   "source": [
    "def partNumber2(lineNo, begin, end):\n",
    "    # based on row, begin index of the number, and the end index of the number\n",
    "    # check if the characters above, below, left and right are symbols\n",
    "    # if yes, return True\n",
    "    # if no, return False\n",
    "    # print(row, begin, end)\n",
    "    prevLine = lineNo - 1\n",
    "    nextLine = lineNo + 1\n",
    "    if prevLine >= 0:\n",
    "        if \"1\" in adj_data[prevLine][begin:end+1]:\n",
    "            return True\n",
    "    if nextLine < len(data):\n",
    "        if \"1\" in adj_data[nextLine][begin:end+1]:\n",
    "            return True\n",
    "    if begin > 0:\n",
    "        if \"1\" in adj_data[lineNo][begin-1:end+1]:\n",
    "            return True\n",
    "        if prevLine >= 0:\n",
    "            if \"1\" in adj_data[prevLine][begin-1:end+1]:\n",
    "                return True\n",
    "        if nextLine < len(data):\n",
    "            if \"1\" in adj_data[nextLine][begin-1:end+1]:\n",
    "                return True\n",
    "    if end < len(data[lineNo]) - 1:\n",
    "        if \"1\" in adj_data[lineNo][begin:end+2]:\n",
    "            return True\n",
    "        if prevLine >= 0:\n",
    "            if \"1\" in adj_data[prevLine][begin:end+2]:\n",
    "                return True\n",
    "        if nextLine < len(data):\n",
    "            if \"1\" in adj_data[nextLine][begin:end+2]:\n",
    "                return True\n",
    "    \n",
    "    return False"
   ]
  },
  {
   "cell_type": "code",
   "execution_count": 300,
   "metadata": {},
   "outputs": [],
   "source": [
    "total = 0\n",
    "totalRows = len(data)\n",
    "for row in range(totalRows):\n",
    "    line = data[row]\n",
    "    n = len(line)\n",
    "    i = 0\n",
    "    while( i < n):\n",
    "        c = line[i]\n",
    "        if c in number:\n",
    "            # find the beginning and end of the number\n",
    "            start = i\n",
    "            end = i+1\n",
    "            # loop through rest of line to find end of number\n",
    "            for j in range(i+1, n):\n",
    "                if line[j] not in number:\n",
    "                    end = j\n",
    "                    break\n",
    "            num = int(line[start:end])\n",
    "            if partNumber2(row, start, end-1):\n",
    "                # processed =   underline(line[start:end]) \n",
    "                # data_copy[row] = data_copy[row][:start]+processed+data_copy[row][end:]\n",
    "                # print(data_copy[row])\n",
    "                # print(num)\n",
    "                total += num\n",
    "            i = end\n",
    "        else:\n",
    "            i += 1\n",
    "            "
   ]
  },
  {
   "cell_type": "code",
   "execution_count": 301,
   "metadata": {},
   "outputs": [
    {
     "data": {
      "text/plain": [
       "506749"
      ]
     },
     "execution_count": 301,
     "metadata": {},
     "output_type": "execute_result"
    }
   ],
   "source": [
    "total"
   ]
  },
  {
   "cell_type": "code",
   "execution_count": 281,
   "metadata": {},
   "outputs": [
    {
     "name": "stdout",
     "output_type": "stream",
     "text": [
      "\u001b[4ma\u001b[0m\n"
     ]
    }
   ],
   "source": [
    "def underline(text):\n",
    "    return \"\\033[4m\" + text + \"\\033[0m\"\n",
    "print(underline(\"a\"))"
   ]
  },
  {
   "cell_type": "code",
   "execution_count": 288,
   "metadata": {},
   "outputs": [],
   "source": [
    "#output data_copy to file\n",
    "with open('output.txt', 'w') as f:\n",
    "    for line in adj_data:\n",
    "        f.write(line + '\\n')    "
   ]
  }
 ],
 "metadata": {
  "kernelspec": {
   "display_name": "Python 3.11.2 64-bit",
   "language": "python",
   "name": "python3"
  },
  "language_info": {
   "codemirror_mode": {
    "name": "ipython",
    "version": 3
   },
   "file_extension": ".py",
   "mimetype": "text/x-python",
   "name": "python",
   "nbconvert_exporter": "python",
   "pygments_lexer": "ipython3",
   "version": "3.11.2"
  },
  "orig_nbformat": 4,
  "vscode": {
   "interpreter": {
    "hash": "b0fa6594d8f4cbf19f97940f81e996739fb7646882a419484c72d19e05852a7e"
   }
  }
 },
 "nbformat": 4,
 "nbformat_minor": 2
}
